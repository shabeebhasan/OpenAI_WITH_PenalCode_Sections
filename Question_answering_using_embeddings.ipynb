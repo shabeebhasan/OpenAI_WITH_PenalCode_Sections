{
 "cells": [
  {
   "attachments": {},
   "cell_type": "markdown",
   "id": "c4ca8276-e829-4cff-8905-47534e4b4d4e",
   "metadata": {},
   "source": [
    "# Question Answering using Embeddings\n",
    "\n",
    "Many use cases require GPT-3 to respond to user questions with insightful answers. For example, a customer support chatbot may need to provide answers to common questions. The GPT models have picked up a lot of general knowledge in training, but we often need to ingest and use a large library of more specific information.\n",
    "\n",
    "In this notebook we will demonstrate a method for enabling GPT-3 able to answer questions using a library of text as a reference, by using document embeddings and retrieval."
   ]
  },
  {
   "cell_type": "code",
   "execution_count": 1,
   "id": "9e3839a6-9146-4f60-b74b-19abbc24278d",
   "metadata": {},
   "outputs": [],
   "source": [
    "import numpy as np\n",
    "import openai\n",
    "import pandas as pd\n",
    "import pickle\n",
    "import tiktoken\n",
    "import time\n",
    "\n",
    "openai.api_key = '<Key>'\n",
    "\n",
    "COMPLETIONS_MODEL = \"text-davinci-003\"\n",
    "EMBEDDING_MODEL = \"text-embedding-ada-002\""
   ]
  },
  {
   "cell_type": "code",
   "execution_count": 2,
   "id": "cc9c8d69-e234-48b4-87e3-935970e1523a",
   "metadata": {},
   "outputs": [
    {
     "name": "stdout",
     "output_type": "stream",
     "text": [
      "600 rows in the data.\n"
     ]
    },
    {
     "data": {
      "text/html": [
       "<div>\n",
       "<style scoped>\n",
       "    .dataframe tbody tr th:only-of-type {\n",
       "        vertical-align: middle;\n",
       "    }\n",
       "\n",
       "    .dataframe tbody tr th {\n",
       "        vertical-align: top;\n",
       "    }\n",
       "\n",
       "    .dataframe thead th {\n",
       "        text-align: right;\n",
       "    }\n",
       "</style>\n",
       "<table border=\"1\" class=\"dataframe\">\n",
       "  <thead>\n",
       "    <tr style=\"text-align: right;\">\n",
       "      <th></th>\n",
       "      <th></th>\n",
       "      <th>content</th>\n",
       "      <th>tokens</th>\n",
       "    </tr>\n",
       "    <tr>\n",
       "      <th>sectionNumber</th>\n",
       "      <th>sectionTitle</th>\n",
       "      <th></th>\n",
       "      <th></th>\n",
       "    </tr>\n",
       "  </thead>\n",
       "  <tbody>\n",
       "    <tr>\n",
       "      <th>SectionNumber: 366-A.</th>\n",
       "      <th>Procuration of minor girl:</th>\n",
       "      <td>366-A.\\nProcuration of minor girl:  Procuratio...</td>\n",
       "      <td>190</td>\n",
       "    </tr>\n",
       "    <tr>\n",
       "      <th>SectionNumber: 247</th>\n",
       "      <th>Fraudulently or dishonestly diminishing weight or altering composition of Pakistan coin:</th>\n",
       "      <td>247\\nFraudulently or dishonestly diminishing w...</td>\n",
       "      <td>88</td>\n",
       "    </tr>\n",
       "    <tr>\n",
       "      <th>SectionNumber: 80</th>\n",
       "      <th>Accident in doing a lawful act:</th>\n",
       "      <td>80\\nAccident in doing a lawful act:  Accident ...</td>\n",
       "      <td>108</td>\n",
       "    </tr>\n",
       "    <tr>\n",
       "      <th>SectionNumber: 70</th>\n",
       "      <th>Fine leviable within six years, or during imprisonment; Death not to discharge property from liability:</th>\n",
       "      <td>70\\nFine leviable within six years, or during ...</td>\n",
       "      <td>128</td>\n",
       "    </tr>\n",
       "    <tr>\n",
       "      <th>SectionNumber: 181</th>\n",
       "      <th>False statement on oath or affirmation to public servant or person authorised to administer an oath or affirmation:</th>\n",
       "      <td>181\\nFalse statement on oath or affirmation to...</td>\n",
       "      <td>141</td>\n",
       "    </tr>\n",
       "  </tbody>\n",
       "</table>\n",
       "</div>"
      ],
      "text/plain": [
       "                                                                                                                    content  \\\n",
       "sectionNumber         sectionTitle                                                                                            \n",
       "SectionNumber: 366-A. Procuration of minor girl:                          366-A.\\nProcuration of minor girl:  Procuratio...   \n",
       "SectionNumber: 247    Fraudulently or dishonestly diminishing weight ...  247\\nFraudulently or dishonestly diminishing w...   \n",
       "SectionNumber: 80     Accident in doing a lawful act:                     80\\nAccident in doing a lawful act:  Accident ...   \n",
       "SectionNumber: 70     Fine leviable within six years, or during impri...  70\\nFine leviable within six years, or during ...   \n",
       "SectionNumber: 181    False statement on oath or affirmation to publi...  181\\nFalse statement on oath or affirmation to...   \n",
       "\n",
       "                                                                          tokens  \n",
       "sectionNumber         sectionTitle                                                \n",
       "SectionNumber: 366-A. Procuration of minor girl:                             190  \n",
       "SectionNumber: 247    Fraudulently or dishonestly diminishing weight ...      88  \n",
       "SectionNumber: 80     Accident in doing a lawful act:                        108  \n",
       "SectionNumber: 70     Fine leviable within six years, or during impri...     128  \n",
       "SectionNumber: 181    False statement on oath or affirmation to publi...     141  "
      ]
     },
     "execution_count": 2,
     "metadata": {},
     "output_type": "execute_result"
    }
   ],
   "source": [
    "# We have hosted the processed dataset, so you can download it directly without having to recreate it.\n",
    "# This dataset has already been split into sections, one row for each section of the Wikipedia page.\n",
    "\n",
    "df = pd.read_csv('cleaned_data.csv')\n",
    "df = df.set_index([\"sectionNumber\", \"sectionTitle\"])\n",
    "print(f\"{len(df)} rows in the data.\")\n",
    "df.sample(5)"
   ]
  },
  {
   "cell_type": "code",
   "execution_count": 3,
   "id": "ba475f30-ef7f-431c-b60d-d5970b62ad09",
   "metadata": {},
   "outputs": [],
   "source": [
    "def get_embedding(text: str, model: str=EMBEDDING_MODEL) -> list[float]:\n",
    "    result = openai.Embedding.create(\n",
    "      model=model,\n",
    "      input=text\n",
    "    )\n",
    "    time.sleep(5)\n",
    "    return result[\"data\"][0][\"embedding\"]\n",
    "\n",
    "def compute_doc_embeddings(df: pd.DataFrame) -> dict[tuple[str, str], list[float]]:\n",
    "    \"\"\"\n",
    "    Create an embedding for each row in the dataframe using the OpenAI Embeddings API.\n",
    "    \n",
    "    Return a dictionary that maps between each embedding vector and the index of the row that it corresponds to.\n",
    "    \"\"\"\n",
    "    return {\n",
    "        idx: get_embedding(r.content) for idx, r in df.iterrows()\n",
    "    }"
   ]
  },
  {
   "cell_type": "code",
   "execution_count": 4,
   "id": "737266aa-cbe7-4691-87c1-fce8a31632f1",
   "metadata": {},
   "outputs": [],
   "source": [
    "def load_embeddings(fname: str) -> dict[tuple[str, str], list[float]]:\n",
    "    \"\"\"\n",
    "    Read the document embeddings and their keys from a CSV.\n",
    "    \n",
    "    fname is the path to a CSV with exactly these named columns: \n",
    "        \"title\", \"heading\", \"0\", \"1\", ... up to the length of the embedding vectors.\n",
    "    \"\"\"\n",
    "    \n",
    "    df = pd.read_csv(fname, header=0)\n",
    "    max_dim = max([int(c) for c in df.columns if c != \"sectionNumber\" and c != \"sectionTitle\"])\n",
    "    return {\n",
    "           (r.sectionNumber, r.sectionTitle): [r[str(i)] for i in range(max_dim + 1)] for _, r in df.iterrows()\n",
    "    }"
   ]
  },
  {
   "cell_type": "code",
   "execution_count": 5,
   "id": "ab50bfca-cb02-41c6-b338-4400abe1d86e",
   "metadata": {},
   "outputs": [
    {
     "name": "stderr",
     "output_type": "stream",
     "text": [
      "C:\\Users\\Shabeeb\\AppData\\Local\\Temp\\ipykernel_15380\\1919024425.py:9: DtypeWarning: Columns (0,1) have mixed types. Specify dtype option on import or set low_memory=False.\n",
      "  df = pd.read_csv(fname, header=0)\n"
     ]
    }
   ],
   "source": [
    "document_embeddings = load_embeddings(\"modifiedJupyter.csv\")\n",
    "\n",
    "# ===== OR, uncomment the below line to recaculate the embeddings from scratch. ========\n",
    "\n",
    "# document_embeddings = compute_doc_embeddings(df)\n",
    "# embeddings_df = pd.DataFrame(document_embeddings)\n",
    "# embeddings_df.to_csv('jupyterGeneratedEmbeddings.csv', index=False)"
   ]
  },
  {
   "cell_type": "code",
   "execution_count": 6,
   "id": "b9a8c713-c8a9-47dc-85a4-871ee1395566",
   "metadata": {},
   "outputs": [
    {
     "name": "stdout",
     "output_type": "stream",
     "text": [
      "('SectionNumber: 1', 'Title and extent of operation of the Code.') : [-0.005502332, -0.000821574, 0.001789243, -0.0202365, -0.005426823]... (1536 entries)\n"
     ]
    }
   ],
   "source": [
    "# An example embedding:\n",
    "example_entry = list(document_embeddings.items())[0]\n",
    "print(f\"{example_entry[0]} : {example_entry[1][:5]}... ({len(example_entry[1])} entries)\")"
   ]
  },
  {
   "cell_type": "code",
   "execution_count": 7,
   "id": "dcd680e9-f194-4180-b14f-fc357498eb92",
   "metadata": {},
   "outputs": [],
   "source": [
    "def vector_similarity(x: list[float], y: list[float]) -> float:\n",
    "    \"\"\"\n",
    "    Returns the similarity between two vectors.\n",
    "    \n",
    "    Because OpenAI Embeddings are normalized to length 1, the cosine similarity is the same as the dot product.\n",
    "    \"\"\"\n",
    "    return np.dot(np.array(x), np.array(y))\n",
    "\n",
    "def order_document_sections_by_query_similarity(query: str, contexts: dict[(str, str), np.array]) -> list[(float, (str, str))]:\n",
    "    \"\"\"\n",
    "    Find the query embedding for the supplied query, and compare it against all of the pre-calculated document embeddings\n",
    "    to find the most relevant sections. \n",
    "    \n",
    "    Return the list of document sections, sorted by relevance in descending order.\n",
    "    \"\"\"\n",
    "    query_embedding = get_embedding(query)\n",
    "    \n",
    "    document_similarities = sorted([\n",
    "        (vector_similarity(query_embedding, doc_embedding), doc_index) for doc_index, doc_embedding in contexts.items()\n",
    "    ], reverse=True)\n",
    "    \n",
    "    return document_similarities"
   ]
  },
  {
   "cell_type": "code",
   "execution_count": 8,
   "id": "e3a27d73-f47f-480d-b336-079414f749cb",
   "metadata": {},
   "outputs": [
    {
     "data": {
      "text/plain": [
       "[(0.8820595149666943, ('SectionNumber: 19', '\"Judge\".')),\n",
       " (0.8584503039643534, ('SectionNumber: 20', '\"Court of Justice\".')),\n",
       " (0.8406330091247475,\n",
       "  ('SectionNumber: 77', 'Act of Judge when acting judicially:')),\n",
       " (0.800627371011219,\n",
       "  ('SectionNumber: 219',\n",
       "   'Public servant in judicial proceeding corruptly making report, etc., contrary to law:')),\n",
       " (0.8003102436349301,\n",
       "  ('SectionNumber: 229', 'Personation of a Juror or assessor:'))]"
      ]
     },
     "execution_count": 8,
     "metadata": {},
     "output_type": "execute_result"
    }
   ],
   "source": [
    "order_document_sections_by_query_similarity(\"What is the definition of a 'Judge?'\", document_embeddings)[:5]"
   ]
  },
  {
   "cell_type": "code",
   "execution_count": 9,
   "id": "729c2ce7-8540-4ab2-bb3a-76c4dfcb689c",
   "metadata": {},
   "outputs": [
    {
     "data": {
      "text/plain": [
       "[(0.8658651053528361, ('SectionNumber: 25', '\"Fraudulently\".')),\n",
       " (0.8171067258899785,\n",
       "  ('SectionNumber: 207',\n",
       "   'Fraudulent claim to property to prevent its seizure as forfeited or in execution:')),\n",
       " (0.8138158907905736,\n",
       "  ('SectionNumber: 477',\n",
       "   'Fraudulent cancellation, destruction, etc., of will, authority to adopt, or valuable security:')),\n",
       " (0.8135823567644422,\n",
       "  ('SectionNumber: 206',\n",
       "   'Fraudulent removal or concealment of property to prevent its seizure as forfeited or in execution:')),\n",
       " (0.8117879787518463,\n",
       "  ('SectionNumber: 208', 'Fraudulently suffering decree for sum not due:'))]"
      ]
     },
     "execution_count": 9,
     "metadata": {},
     "output_type": "execute_result"
    }
   ],
   "source": [
    "order_document_sections_by_query_similarity('What is the difference between \"fraudulently\" and \"defraud\"?', document_embeddings)[:5]"
   ]
  },
  {
   "cell_type": "code",
   "execution_count": 10,
   "id": "b763ace2-1946-48e0-8ff1-91ba335d47a0",
   "metadata": {},
   "outputs": [
    {
     "data": {
      "text/plain": [
       "'Context separator contains 3 tokens'"
      ]
     },
     "execution_count": 10,
     "metadata": {},
     "output_type": "execute_result"
    }
   ],
   "source": [
    "MAX_SECTION_LEN = 500\n",
    "SEPARATOR = \"\\n* \"\n",
    "ENCODING = \"cl100k_base\"  # encoding for text-embedding-ada-002\n",
    "\n",
    "encoding = tiktoken.get_encoding(ENCODING)\n",
    "separator_len = len(encoding.encode(SEPARATOR))\n",
    "\n",
    "f\"Context separator contains {separator_len} tokens\""
   ]
  },
  {
   "cell_type": "code",
   "execution_count": 11,
   "id": "0c5c0509-eeb9-4552-a5d4-6ace04ef73dd",
   "metadata": {},
   "outputs": [],
   "source": [
    "def construct_prompt(question: str, context_embeddings: dict, df: pd.DataFrame) -> str:\n",
    "    \"\"\"\n",
    "    Fetch relevant \n",
    "    \"\"\"\n",
    "    most_relevant_document_sections = order_document_sections_by_query_similarity(question, context_embeddings)\n",
    "#     print(most_relevant_document_sections)\n",
    "    chosen_sections = []\n",
    "    chosen_sections_len = 0\n",
    "    chosen_sections_indexes = []\n",
    "     \n",
    "    for _, section_index in most_relevant_document_sections:\n",
    "        # Add contexts until we run out of space.        \n",
    "#         print(section_index)\n",
    "        document_section = df.loc[section_index]\n",
    "        print(int(document_section.tokens))\n",
    "        chosen_sections_len += int(document_section.tokens) + separator_len\n",
    "#         chosen_sections_len += document_section.tokens + separator_len\n",
    "#         print(document_section.tokens.item())\n",
    "        if chosen_sections_len > MAX_SECTION_LEN:\n",
    "            break\n",
    "            \n",
    "        chosen_sections.append(SEPARATOR + str(document_section.content.replace(\"\\n\", \" \")))\n",
    "        chosen_sections_indexes.append(str(section_index))\n",
    "            \n",
    "    # Useful diagnostic information\n",
    "    print(f\"Selected {len(chosen_sections)} document sections:\")\n",
    "    print(\"\\n\".join(chosen_sections_indexes))\n",
    "    \n",
    "    header = \"\"\"Answer the question as truthfully as possible using the provided context, and if the answer is not contained within the text below, say \"I don't know.\"\\n\\nContext:\\n\"\"\"\n",
    "    \n",
    "    return header + \"\".join(chosen_sections) + \"\\n\\n Q: \" + question + \"\\n A:\""
   ]
  },
  {
   "cell_type": "code",
   "execution_count": 12,
   "id": "f614045a-3917-4b28-9643-7e0c299ec1a7",
   "metadata": {
    "scrolled": true
   },
   "outputs": [
    {
     "name": "stdout",
     "output_type": "stream",
     "text": [
      "41\n",
      "196\n",
      "155\n",
      "177\n",
      "Selected 3 document sections:\n",
      "('SectionNumber: 25', '\"Fraudulently\".')\n",
      "('SectionNumber: 207', 'Fraudulent claim to property to prevent its seizure as forfeited or in execution:')\n",
      "('SectionNumber: 477', 'Fraudulent cancellation, destruction, etc., of will, authority to adopt, or valuable security:')\n",
      "===\n",
      " Answer the question as truthfully as possible using the provided context, and if the answer is not contained within the text below, say \"I don't know.\"\n",
      "\n",
      "Context:\n",
      "\n",
      "* sectionNumber      sectionTitle   \n",
      "SectionNumber: 25  \"Fraudulently\".    25\\n\"Fraudulently\".  \"Fraudulently\". A person ...\n",
      "Name: content, dtype: object\n",
      "* sectionNumber       sectionTitle                                                                     \n",
      "SectionNumber: 207  Fraudulent claim to property to prevent its seizure as forfeited or in execution:    207\\nFraudulent claim to property to prevent i...\n",
      "Name: content, dtype: object\n",
      "* sectionNumber       sectionTitle                                                                                  \n",
      "SectionNumber: 477  Fraudulent cancellation, destruction, etc., of will, authority to adopt, or valuable security:    477\\nFraudulent cancellation, destruction, etc...\n",
      "Name: content, dtype: object\n",
      "\n",
      " Q: What is the difference between \"fraudulently\" and \"defraud\"?\n",
      " A:\n"
     ]
    },
    {
     "name": "stderr",
     "output_type": "stream",
     "text": [
      "C:\\Users\\Shabeeb\\AppData\\Local\\Temp\\ipykernel_15380\\2492965747.py:14: PerformanceWarning: indexing past lexsort depth may impact performance.\n",
      "  document_section = df.loc[section_index]\n"
     ]
    }
   ],
   "source": [
    "prompt = construct_prompt(\n",
    "    'What is the difference between \"fraudulently\" and \"defraud\"?',\n",
    "    document_embeddings,\n",
    "    df\n",
    ")\n",
    "\n",
    "print(\"===\\n\", prompt)"
   ]
  },
  {
   "cell_type": "code",
   "execution_count": 13,
   "id": "b0edfec7-9243-4573-92e0-253d31c771ad",
   "metadata": {},
   "outputs": [],
   "source": [
    "COMPLETIONS_API_PARAMS = {\n",
    "    # We use temperature of 0.0 because it gives the most predictable, factual answer.\n",
    "    \"temperature\": 0.0,\n",
    "    \"max_tokens\": 300,\n",
    "    \"model\": COMPLETIONS_MODEL,\n",
    "}"
   ]
  },
  {
   "cell_type": "code",
   "execution_count": 14,
   "id": "9c1c9a69-848e-4099-a90d-c8da36c153d5",
   "metadata": {},
   "outputs": [],
   "source": [
    "def answer_query_with_context(\n",
    "    query: str,\n",
    "    df: pd.DataFrame,\n",
    "    document_embeddings: dict[(str, str), np.array],\n",
    "    show_prompt: bool = False\n",
    ") -> str:\n",
    "    prompt = construct_prompt(\n",
    "        query,\n",
    "        document_embeddings,\n",
    "        df\n",
    "    )\n",
    "    \n",
    "    if show_prompt:\n",
    "        print(prompt)\n",
    "\n",
    "    response = openai.Completion.create(\n",
    "                prompt=prompt,\n",
    "                **COMPLETIONS_API_PARAMS\n",
    "            )\n",
    "\n",
    "    return response[\"choices\"][0][\"text\"].strip(\" \\n\")"
   ]
  },
  {
   "cell_type": "code",
   "execution_count": 15,
   "id": "c233e449-bf33-4c9e-b095-6a4dd278c8fd",
   "metadata": {},
   "outputs": [
    {
     "name": "stderr",
     "output_type": "stream",
     "text": [
      "C:\\Users\\Shabeeb\\AppData\\Local\\Temp\\ipykernel_15380\\2492965747.py:14: PerformanceWarning: indexing past lexsort depth may impact performance.\n",
      "  document_section = df.loc[section_index]\n"
     ]
    },
    {
     "name": "stdout",
     "output_type": "stream",
     "text": [
      "41\n",
      "196\n",
      "155\n",
      "177\n",
      "Selected 3 document sections:\n",
      "('SectionNumber: 25', '\"Fraudulently\".')\n",
      "('SectionNumber: 207', 'Fraudulent claim to property to prevent its seizure as forfeited or in execution:')\n",
      "('SectionNumber: 477', 'Fraudulent cancellation, destruction, etc., of will, authority to adopt, or valuable security:')\n"
     ]
    },
    {
     "data": {
      "text/plain": [
       "'\"Fraudulently\" refers to an act that is done with the intent to deceive or cheat, while \"defraud\" means to deprive someone of something through deception or fraud.'"
      ]
     },
     "execution_count": 15,
     "metadata": {},
     "output_type": "execute_result"
    }
   ],
   "source": [
    "answer_query_with_context('What is the difference between \"fraudulently\" and \"defraud\"?', df, document_embeddings)"
   ]
  },
  {
   "cell_type": "code",
   "execution_count": 16,
   "id": "1127867b-2884-44bb-9439-0e8ae171c835",
   "metadata": {},
   "outputs": [
    {
     "name": "stderr",
     "output_type": "stream",
     "text": [
      "C:\\Users\\Shabeeb\\AppData\\Local\\Temp\\ipykernel_15380\\2492965747.py:14: PerformanceWarning: indexing past lexsort depth may impact performance.\n",
      "  document_section = df.loc[section_index]\n"
     ]
    },
    {
     "name": "stdout",
     "output_type": "stream",
     "text": [
      "106\n",
      "65\n",
      "109\n",
      "84\n",
      "93\n",
      "116\n",
      "Selected 5 document sections:\n",
      "('SectionNumber: 189', 'Threat of injury to public servant:')\n",
      "('SectionNumber: 168', 'Public servant unlawfully engaging in trade:')\n",
      "('SectionNumber: 179', 'Refusing to answer public servant authorised to question:')\n",
      "('SectionNumber: 186', 'Obstructing public servant in discharge of public functions:')\n",
      "('SectionNumber: 170', 'Personating a public servant:')\n",
      "\n",
      "Q: Is the public servant also liable to pay a fine?\n",
      "A: I don't know.\n"
     ]
    }
   ],
   "source": [
    "query = \"Is the public servant also liable to pay a fine?\"\n",
    "answer = answer_query_with_context(query, df, document_embeddings)\n",
    "\n",
    "print(f\"\\nQ: {query}\\nA: {answer}\")"
   ]
  },
  {
   "cell_type": "code",
   "execution_count": 17,
   "id": "720d9e0b-b189-4101-91ee-babf736199e6",
   "metadata": {},
   "outputs": [
    {
     "name": "stderr",
     "output_type": "stream",
     "text": [
      "C:\\Users\\Shabeeb\\AppData\\Local\\Temp\\ipykernel_15380\\2492965747.py:14: PerformanceWarning: indexing past lexsort depth may impact performance.\n",
      "  document_section = df.loc[section_index]\n"
     ]
    },
    {
     "name": "stdout",
     "output_type": "stream",
     "text": [
      "1675\n",
      "Selected 0 document sections:\n",
      "\n",
      "\n",
      "Q: 129 Public servant \n",
      "A: I don't know.\n"
     ]
    }
   ],
   "source": [
    "query = \"129 Public servant \"\n",
    "answer = answer_query_with_context(query, df, document_embeddings)\n",
    "\n",
    "print(f\"\\nQ: {query}\\nA: {answer}\")"
   ]
  },
  {
   "cell_type": "code",
   "execution_count": 18,
   "id": "9fba8a63-eb81-4661-ae17-59bb5e2933d6",
   "metadata": {},
   "outputs": [
    {
     "name": "stderr",
     "output_type": "stream",
     "text": [
      "C:\\Users\\Shabeeb\\AppData\\Local\\Temp\\ipykernel_15380\\2492965747.py:14: PerformanceWarning: indexing past lexsort depth may impact performance.\n",
      "  document_section = df.loc[section_index]\n"
     ]
    },
    {
     "name": "stdout",
     "output_type": "stream",
     "text": [
      "158\n",
      "272\n",
      "32\n",
      "90\n",
      "Selected 3 document sections:\n",
      "('SectionNumber: 106', 'Right of private defence against deadly assault when there is risk of harm to innocent person:')\n",
      "('SectionNumber: 97', 'Right of private defence of the body and of property:')\n",
      "('SectionNumber: 96', 'Things done in private defence:')\n",
      "\n",
      "Q: What is the right of private defence?\n",
      "A: The right of private defence is the right to protect oneself or one's property from harm or damage.\n"
     ]
    }
   ],
   "source": [
    "query = \"What is the right of private defence?\"\n",
    "answer = answer_query_with_context(query, df, document_embeddings)\n",
    "\n",
    "print(f\"\\nQ: {query}\\nA: {answer}\")"
   ]
  }
 ],
 "metadata": {
  "kernelspec": {
   "display_name": "Python 3",
   "language": "python",
   "name": "python3"
  },
  "language_info": {
   "codemirror_mode": {
    "name": "ipython",
    "version": 3
   },
   "file_extension": ".py",
   "mimetype": "text/x-python",
   "name": "python",
   "nbconvert_exporter": "python",
   "pygments_lexer": "ipython3",
   "version": "3.11.1"
  },
  "vscode": {
   "interpreter": {
    "hash": "80f1ed4dddd1d5fd563917308b5bc349875962a5b9194abcd8ac906ac7961ad2"
   }
  }
 },
 "nbformat": 4,
 "nbformat_minor": 5
}
